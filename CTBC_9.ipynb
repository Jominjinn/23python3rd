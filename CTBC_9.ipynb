{
  "nbformat": 4,
  "nbformat_minor": 0,
  "metadata": {
    "colab": {
      "provenance": [],
      "authorship_tag": "ABX9TyMficQNGjZW4H5qTv6s5TWL",
      "include_colab_link": true
    },
    "kernelspec": {
      "name": "python3",
      "display_name": "Python 3"
    },
    "language_info": {
      "name": "python"
    }
  },
  "cells": [
    {
      "cell_type": "markdown",
      "metadata": {
        "id": "view-in-github",
        "colab_type": "text"
      },
      "source": [
        "<a href=\"https://colab.research.google.com/github/Jominjinn/23python3rd/blob/main/CTBC_9.ipynb\" target=\"_parent\"><img src=\"https://colab.research.google.com/assets/colab-badge.svg\" alt=\"Open In Colab\"/></a>"
      ]
    },
    {
      "cell_type": "markdown",
      "source": [
        "1. 두가지 이상의 선택, 다방향 선택구조 코딩\n",
        " - 배송료 처리 3가지로 코딩\n",
        " - 변수 : PRICE\n",
        " - 조건 : 10만원 이상 배송비 0, 2만원 이상은 3천원, 2만원 이하는 5천원"
      ],
      "metadata": {
        "id": "w4sbtOIArSr4"
      }
    },
    {
      "cell_type": "code",
      "source": [
        "price = int(input(\"구입금액 입력: \"))          # 변수 price가 사용가자 정수형 금액 입력\n",
        "if price >= 100000:                            # price의 값이 10만원보다 크거나 같으면\n",
        "  shipping_cost = 0                            # 선택1. 배송료(shipping_cost)는 0원\n",
        "else:                                          # 그게 아니면\n",
        "  if price >= 20000:                           # 선택2. price의 값이 2만원보다 크거나 같으면\n",
        "    shipping_cost = 3000                       # 배송료(shipping_cost)는 3000원\n",
        "  else:                                        # 그것도 아니면\n",
        "    shipping_cost = 5000                       # 선택3. 배송료(shipping_cost)는 5000원\n",
        "  print(f'배송료는 {shipping_cost}원 입니다.') # F-string문자 Fomat으로 최종 배송료 출력"
      ],
      "metadata": {
        "colab": {
          "base_uri": "https://localhost:8080/"
        },
        "id": "op8IRmZpsXV4",
        "outputId": "74634aba-d394-40ba-f7c4-af9688dc3bfd"
      },
      "execution_count": null,
      "outputs": [
        {
          "output_type": "stream",
          "name": "stdout",
          "text": [
            "구입금액 입력: 500\n",
            "배송료는 5000원 입니다.\n"
          ]
        }
      ]
    },
    {
      "cell_type": "markdown",
      "source": [
        "2.반복구조를 이용한 \"환영합니다.\"를 5번 출력하는 코드 작성\n",
        " - 변수: Welcome\n",
        " - 출력내용 : 환영합니다.를 세로로 5번, 10번, 30번"
      ],
      "metadata": {
        "id": "ukgN1LSqymQt"
      }
    },
    {
      "cell_type": "code",
      "source": [
        "print(\"환영합니다.\") # \"환영합니다.\"라는 메시지를 출력하는 코드입니다.\n",
        "print(\"환영합니다.\") # \"환영합니다.\"라는 메시지를 출력하는 코드입니다.\n",
        "print(\"환영합니다.\") # \"환영합니다.\"라는 메시지를 출력하는 코드입니다.\n",
        "print(\"환영합니다.\") # \"환영합니다.\"라는 메시지를 출력하는 코드입니다.\n",
        "print(\"환영합니다.\") # \"환영합니다.\"라는 메시지를 출력하는 코드입니다."
      ],
      "metadata": {
        "colab": {
          "base_uri": "https://localhost:8080/"
        },
        "id": "ge6BX3AtzA0D",
        "outputId": "f0833333-6678-40b3-905f-37f3930d9e8a"
      },
      "execution_count": null,
      "outputs": [
        {
          "output_type": "stream",
          "name": "stdout",
          "text": [
            "환영합니다.\n",
            "환영합니다.\n",
            "환영합니다.\n",
            "환영합니다.\n",
            "환영합니다.\n"
          ]
        }
      ]
    },
    {
      "cell_type": "code",
      "source": [
        "print(\"환영합니다.\\n\"* 5) # \"환영합니다.\"라는 문자열을 5번 반복하여 출력하는 코드입니다."
      ],
      "metadata": {
        "colab": {
          "base_uri": "https://localhost:8080/"
        },
        "id": "YHj-jTJ5zJ8w",
        "outputId": "e7a41f88-4751-44af-a560-a8765b4e4d5f"
      },
      "execution_count": null,
      "outputs": [
        {
          "output_type": "stream",
          "name": "stdout",
          "text": [
            "환영합니다.\n",
            "환영합니다.\n",
            "환영합니다.\n",
            "환영합니다.\n",
            "환영합니다.\n",
            "\n"
          ]
        }
      ]
    },
    {
      "cell_type": "code",
      "source": [
        "count = 1 # 초기값으로 count 변수를 1로 설정합니다.\n",
        "while count <= 5: # count가 5보다 작거나 같을 때까지 반복합니다.\n",
        "  print(\"(\", count, \")\",\"환영합니다.\") # \"(\", count, \")\", \"환영합니다.\" 문자열을 출력합니다.\n",
        "  count = count + 1 # count 변수에 1을 더하여 값을 증가시킵니다."
      ],
      "metadata": {
        "colab": {
          "base_uri": "https://localhost:8080/"
        },
        "id": "GIQw5ClmznpJ",
        "outputId": "1cac0128-c67e-489c-d7a6-d360b800852e"
      },
      "execution_count": null,
      "outputs": [
        {
          "output_type": "stream",
          "name": "stdout",
          "text": [
            "( 1 ) 환영합니다.\n",
            "( 2 ) 환영합니다.\n",
            "( 3 ) 환영합니다.\n",
            "( 4 ) 환영합니다.\n",
            "( 5 ) 환영합니다.\n"
          ]
        }
      ]
    },
    {
      "cell_type": "markdown",
      "source": [
        "3. 0부터 9까지 출력하는 코드 작성\n",
        " - 변수 : x"
      ],
      "metadata": {
        "id": "glk_KXQ_1g3a"
      }
    },
    {
      "cell_type": "code",
      "source": [
        "x = 0 # 초기값으로 x 변수를 0으로 설정합니다.\n",
        "while x < 10: # x가 10보다 작을 때까지 반복합니다.\n",
        "  #print(x)\n",
        "  print(x, end= ' ') # x 값을 출력하고, 공백으로 구분하여 출력합니다.\n",
        "  x = x + 1 # x 변수에 1을 더하여 값을 증가시킵니다."
      ],
      "metadata": {
        "colab": {
          "base_uri": "https://localhost:8080/"
        },
        "id": "aQsAE9Cl1ohn",
        "outputId": "035b4daa-de16-4979-9616-4f16415bd0c6"
      },
      "execution_count": null,
      "outputs": [
        {
          "output_type": "stream",
          "name": "stdout",
          "text": [
            "0 1 2 3 4 5 6 7 8 9 "
          ]
        }
      ]
    },
    {
      "cell_type": "markdown",
      "source": [
        "4. 1부터 10까지 합산하는 코드 작성"
      ],
      "metadata": {
        "id": "XHDYCXEp3DQI"
      }
    },
    {
      "cell_type": "code",
      "source": [
        "x = 1 # 초기값으로 x 변수를 1로 설정합니다.\n",
        "total = 0 # 초기값으로 total 변수를 0으로 설정합니다.\n",
        "while x <= 10: # x가 10보다 작거나 같을 때까지 반복합니다.\n",
        "  total += x # total 변수에 x 값을 더하여 값을 업데이트합니다.\n",
        "  #total = total + 1\n",
        "  #x = x + 1\n",
        "  x += 1 # x 변수를 1 증가시킵니다.\n",
        "print(total) # total 값을 출력합니다."
      ],
      "metadata": {
        "colab": {
          "base_uri": "https://localhost:8080/"
        },
        "id": "eZ_9oSSS3Jub",
        "outputId": "56eba2f2-8ce7-4454-eeb8-d1ba11b22308"
      },
      "execution_count": null,
      "outputs": [
        {
          "output_type": "stream",
          "name": "stdout",
          "text": [
            "55\n"
          ]
        }
      ]
    },
    {
      "cell_type": "code",
      "source": [
        "x = 1 # 변수 x를 1로 초기화합니다.\n",
        "while x <= 9: # x가 9 이하인 동안 아래의 코드 블록을 반복합니다.\n",
        "  print(x, end='') # x를 출력합니다. end=''는 줄바꿈 없이 출력하기 위한 옵션입니다.\n",
        "  x += 1 # x를 1씩 증가시킵니다."
      ],
      "metadata": {
        "colab": {
          "base_uri": "https://localhost:8080/"
        },
        "id": "pkX_d2V33vCv",
        "outputId": "d04de6c2-3916-4464-d080-150ece002af5"
      },
      "execution_count": null,
      "outputs": [
        {
          "output_type": "stream",
          "name": "stdout",
          "text": [
            "123456789"
          ]
        }
      ]
    },
    {
      "cell_type": "markdown",
      "source": [
        "3-6-9 게임(3의 배수 판단): 3의 배수를 3으로 나누면 나머지가 0이 되므로(i mod 3)의 값이 0이면 박수를 출력, 아니면 숫자 출력하는 코드"
      ],
      "metadata": {
        "id": "Ubl2lCcc4bNn"
      }
    },
    {
      "cell_type": "code",
      "source": [
        "for num in range(1, 21): # 1부터 20까지의 숫자를 반복적으로 처리합니다.\n",
        "  if num % 3 == 0: # 만약 현재 숫자가 3의 배수라면 \"박수\"를 출력합니다.\n",
        "    print(\"박수\", end=' ')\n",
        "  else: # 그렇지 않으면 현재 숫자를 출력합니다.\n",
        "    print(num, end=' ')"
      ],
      "metadata": {
        "colab": {
          "base_uri": "https://localhost:8080/"
        },
        "id": "5SKEf2ry4rDt",
        "outputId": "e8aeadcb-dafd-4c98-e444-74d6d81cf83f"
      },
      "execution_count": null,
      "outputs": [
        {
          "output_type": "stream",
          "name": "stdout",
          "text": [
            "1 2 박수 4 5 박수 7 8 박수 10 11 박수 13 14 박수 16 17 박수 19 20 "
          ]
        }
      ]
    },
    {
      "cell_type": "code",
      "source": [
        "num = 1 # 변수 num을 1로 초기화합니다.\n",
        "while num <= 20: # num이 20 이하인 동안 아래의 코드 블록을 반복합니다.\n",
        "  if num % 3 == 0:# 만약 num을 3으로 나눈 나머지가 0이면 아래의 코드 블록을 실행합니다.\n",
        "    print(\"박수\", end=' ') # \"박수\"를 출력하고, 공백 문자를 출력합니다.\n",
        "  else: # 그렇지 않은 경우(나머지가 0이 아닌 경우) 아래의 코드 블록을 실행합니다.\n",
        "    print(num, end=' ')\n",
        "  num += 1"
      ],
      "metadata": {
        "colab": {
          "base_uri": "https://localhost:8080/"
        },
        "id": "O1Fdmwll5Vg1",
        "outputId": "fb8213fc-6ad9-49c5-8d11-3f25c470e3a1"
      },
      "execution_count": null,
      "outputs": [
        {
          "output_type": "stream",
          "name": "stdout",
          "text": [
            "1 2 박수 4 5 박수 7 8 박수 10 11 박수 13 14 박수 16 17 박수 19 20 "
          ]
        }
      ]
    },
    {
      "cell_type": "markdown",
      "source": [
        "6. 팩토리얼 계산하는 코드 작성\n",
        " - 1! = 1, 2!= 2(1), 3!=3(2)(1)=6"
      ],
      "metadata": {
        "id": "bYFE9MJfbv5H"
      }
    },
    {
      "cell_type": "code",
      "source": [
        "i = 5 # 초기값으로 i 변수를 5로 설정합니다.\n",
        "factorial = 1 # 초기값으로 factorial 변수를 1로 설정합니다.\n",
        "while i >= 1:# i가 1보다 크거나 같을 때까지 반복합니다.\n",
        "  factorial *= i # factorial 변수에 i 값을 곱하여 값을 업데이트합니다.\n",
        "  i -=1 # i 변수를 1 감소시킵니다.\n",
        "print(factorial) # factorial 값을 출력합니다."
      ],
      "metadata": {
        "colab": {
          "base_uri": "https://localhost:8080/"
        },
        "id": "ywoVmYT0cUTQ",
        "outputId": "261de338-ffdd-481b-ba69-a678a9a4a81c"
      },
      "execution_count": null,
      "outputs": [
        {
          "output_type": "stream",
          "name": "stdout",
          "text": [
            "120\n"
          ]
        }
      ]
    },
    {
      "cell_type": "code",
      "source": [
        "# 계산할 숫자를 입력받습니다.\n",
        "num = int(input(\"팩토리얼을 계산할 숫자를 입력하시오.:\"))\n",
        "\n",
        "# 초기 값으로 1을 설정합니다.\n",
        "factorial = 1\n",
        "#팩토리얼 계산을 위한 반복분인 while입니다.\n",
        "while num >= 1:                 # num값이 1보다 크거나 같을 때 하위 문장(코드)를 진행\n",
        "  factorial = factorial * num   # 현재 num값을 factorial의 값에 곱해줍니다.\n",
        "  num -= 1                      # num값을 1씩 감소시킵니다.\n",
        "\n",
        "print(f'계산된 팩토리얼 값은 {factorial}입니다.')"
      ],
      "metadata": {
        "colab": {
          "base_uri": "https://localhost:8080/"
        },
        "id": "5u0j_veUcpjL",
        "outputId": "da8a5a79-e158-4a72-8aa4-8f804a0a4c07"
      },
      "execution_count": null,
      "outputs": [
        {
          "output_type": "stream",
          "name": "stdout",
          "text": [
            "팩토리얼을 계산할 숫자를 입력하시오.:5\n",
            "계산된 팩토리얼 값은 120입니다.\n"
          ]
        }
      ]
    },
    {
      "cell_type": "markdown",
      "source": [
        "7. 구구단 출력해주는 코드 작성\n",
        " - 변수 dan\n",
        " - 반복문(1) : for문사용\n",
        " - 반복문(2) : while문 사용"
      ],
      "metadata": {
        "id": "yG0XenW5e5jH"
      }
    },
    {
      "cell_type": "code",
      "source": [
        "# for문 사용\n",
        "dan = int(input(\"구구단에서 몇 단을 출력할까요: \"))  # 사용자로부터 출력할 단을 입력받습니다.\n",
        "for i in range(1,10): # 1부터 9까지의 숫자를 반복합니다.\n",
        "  print(dan, \"x\", i, \"=\", dan * 1) # 구구단 계산식을 출력합니다."
      ],
      "metadata": {
        "colab": {
          "base_uri": "https://localhost:8080/"
        },
        "id": "DrsxVeALfOqe",
        "outputId": "4f09a2b3-987d-479c-849e-fb9c98f21223"
      },
      "execution_count": null,
      "outputs": [
        {
          "output_type": "stream",
          "name": "stdout",
          "text": [
            "구구단에서 몇 단을 출력할까요: 4\n",
            "4 x 1 = 4\n",
            "4 x 2 = 4\n",
            "4 x 3 = 4\n",
            "4 x 4 = 4\n",
            "4 x 5 = 4\n",
            "4 x 6 = 4\n",
            "4 x 7 = 4\n",
            "4 x 8 = 4\n",
            "4 x 9 = 4\n"
          ]
        }
      ]
    },
    {
      "cell_type": "code",
      "source": [
        "# while문 사용\n",
        "dan = int(input(\"구구단에서 몇단을 사용할래?: \")) # 사용자로부터 출력할 구구단의 단을 입력받습니다.\n",
        "i = 1 # 초기값으로 i를 1로 설정합니다.\n",
        "while i <= 9: # i가 9 이하인 동안 아래의 코드를 반복합니다.\n",
        "   print(dan, \"x\", i, \"=\", dan * 1) # 구구단 계산식을 출력합니다.\n",
        "   i += 1 # i를 1씩 증가시킵니다."
      ],
      "metadata": {
        "colab": {
          "base_uri": "https://localhost:8080/"
        },
        "id": "2l5vzKf-f9BB",
        "outputId": "9c7b55cc-ac55-43f2-a347-c86f433b8dbd"
      },
      "execution_count": null,
      "outputs": [
        {
          "output_type": "stream",
          "name": "stdout",
          "text": [
            "구구단에서 몇단을 사용할래?: 9\n",
            "9 x 1 = 9\n",
            "9 x 2 = 9\n",
            "9 x 3 = 9\n",
            "9 x 4 = 9\n",
            "9 x 5 = 9\n",
            "9 x 6 = 9\n",
            "9 x 7 = 9\n",
            "9 x 8 = 9\n",
            "9 x 9 = 9\n"
          ]
        }
      ]
    }
  ]
}