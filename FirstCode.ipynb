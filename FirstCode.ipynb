{
  "nbformat": 4,
  "nbformat_minor": 0,
  "metadata": {
    "colab": {
      "provenance": [],
      "authorship_tag": "ABX9TyM+5GRIKsYCtRJmHsn9jTOO",
      "include_colab_link": true
    },
    "kernelspec": {
      "name": "python3",
      "display_name": "Python 3"
    },
    "language_info": {
      "name": "python"
    }
  },
  "cells": [
    {
      "cell_type": "markdown",
      "metadata": {
        "id": "view-in-github",
        "colab_type": "text"
      },
      "source": [
        "<a href=\"https://colab.research.google.com/github/Jominjinn/23python3rd/blob/main/FirstCode.ipynb\" target=\"_parent\"><img src=\"https://colab.research.google.com/assets/colab-badge.svg\" alt=\"Open In Colab\"/></a>"
      ]
    },
    {
      "cell_type": "markdown",
      "source": [
        "1. 나의 생애 첫 번째 코드"
      ],
      "metadata": {
        "id": "mLZPp3paH6aA"
      }
    },
    {
      "cell_type": "code",
      "execution_count": null,
      "metadata": {
        "colab": {
          "base_uri": "https://localhost:8080/"
        },
        "id": "sKUNV931FnoZ",
        "outputId": "6d003924-5011-4f0d-d304-96728589fd08"
      },
      "outputs": [
        {
          "output_type": "stream",
          "name": "stdout",
          "text": [
            "hello world!\n"
          ]
        }
      ],
      "source": [
        "print(\"hello world!\") # \"hello world!\"를 출력하는 코드입니다."
      ]
    },
    {
      "cell_type": "markdown",
      "source": [
        "2. 두 번째 코딩"
      ],
      "metadata": {
        "id": "vPisIQo2Ka3f"
      }
    },
    {
      "cell_type": "code",
      "source": [
        "print(5+5, 6-2, 4*5, 6/2) # 덧셈 연산: 5 + 5, 뺄셈 연산: 6 - 2, 곱셈 연산: 4 * 5, 나눗셈 연산: 6 / 2\n"
      ],
      "metadata": {
        "colab": {
          "base_uri": "https://localhost:8080/"
        },
        "id": "C2g7AtqqKg5h",
        "outputId": "5b70a6a7-df88-4ce2-a908-a33bc9f6faea"
      },
      "execution_count": null,
      "outputs": [
        {
          "output_type": "stream",
          "name": "stdout",
          "text": [
            "10 4 20 3.0\n"
          ]
        }
      ]
    }
  ]
}