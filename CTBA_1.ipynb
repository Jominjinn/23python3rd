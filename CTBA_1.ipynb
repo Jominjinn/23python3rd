{
  "nbformat": 4,
  "nbformat_minor": 0,
  "metadata": {
    "colab": {
      "provenance": [],
      "authorship_tag": "ABX9TyMXq9Os6Pw8XYVS+55SHGvR",
      "include_colab_link": true
    },
    "kernelspec": {
      "name": "python3",
      "display_name": "Python 3"
    },
    "language_info": {
      "name": "python"
    }
  },
  "cells": [
    {
      "cell_type": "markdown",
      "metadata": {
        "id": "view-in-github",
        "colab_type": "text"
      },
      "source": [
        "<a href=\"https://colab.research.google.com/github/Jominjinn/23python3rd/blob/main/CTBA_1.ipynb\" target=\"_parent\"><img src=\"https://colab.research.google.com/assets/colab-badge.svg\" alt=\"Open In Colab\"/></a>"
      ]
    },
    {
      "cell_type": "markdown",
      "source": [
        "1. 쇼핑몰 배송료를 계산하는 코드작성\n",
        " - 사용하는 변수 : price, shipping_cost"
      ],
      "metadata": {
        "id": "LL997zbSbTEm"
      }
    },
    {
      "cell_type": "code",
      "source": [
        "print(\"상품의 가격을 입력하시오.\")\n",
        "price = int(input(\"구입 금액을 입력: \")) # 사용자로부터 구입 금액을 입력받아 price 변수에 저장합니다.\n",
        "if price  > 20000: # 만약 구입 금액이 2만원 이상이면 아래의 코드 블록을 실행합니다.\n",
        "  shipping_cost = 0 # 배송비를 0으로 설정합니다.\n",
        "  print(f'구입금액이 2만원 이상입니다.')\n",
        "else: # 그렇지 않은 경우(구입 금액이 2만원 이하인 경우) 아래의 코드 블록을 실행합니다.\n",
        "  shipping_cost = 3000 # 배송비를 3000으로 설정합니다.\n",
        "  print(f'구입 금액이 2만원 이하입니다.')\n",
        "print(f'회원님의 배송비는 {shipping_cost}원 입니다.') # 배송비를 출력합니다."
      ],
      "metadata": {
        "colab": {
          "base_uri": "https://localhost:8080/"
        },
        "id": "83RX09H8czhp",
        "outputId": "b3f0feae-7748-40c6-8483-0e6764257906"
      },
      "execution_count": null,
      "outputs": [
        {
          "output_type": "stream",
          "name": "stdout",
          "text": [
            "상품의 가격을 입력하시오.\n",
            "구입 금액을 입력: 19999\n",
            "구입 금액이 2만원 이하입니다.\n",
            "회원님의 배송비는 3000원 입니다.\n"
          ]
        }
      ]
    },
    {
      "cell_type": "markdown",
      "source": [
        "2. 학생으로부터 성적을 입력받아 합격 유무를 출력하는 코드\n",
        " - 사용 변수 : grade"
      ],
      "metadata": {
        "id": "vxVWQzYEgrJZ"
      }
    },
    {
      "cell_type": "code",
      "source": [
        "print(\"성적을 입력하시오.\")\n",
        "grade = int(input(\"성적 입력:\")) # 사용자로부터 성적을 입력받아 grade 변수에 저장합니다.\n",
        "if grade >= 70: # 만약 성적이 70점 이상이면 아래의 코드 블록을 실행합니다.\n",
        "  print(f'70점 이상이므로 합격입니다.')\n",
        "  print(\"축하합니다. 합격입니다.\")\n",
        "else: # 그렇지 않은 경우(성적이 70점 이하인 경우) 아래의 코드 블록을 실행합니다.\n",
        "  print(f'70점 이하이므로 불합격입니다.')\n",
        "  print(\"아쉽군요. 다시한번 도전하세요.\")"
      ],
      "metadata": {
        "colab": {
          "base_uri": "https://localhost:8080/"
        },
        "id": "RUsN1nXXhAQb",
        "outputId": "27146547-f203-4e7e-ac68-de0c691288ab"
      },
      "execution_count": null,
      "outputs": [
        {
          "output_type": "stream",
          "name": "stdout",
          "text": [
            "성적을 입력하시오.\n",
            "성적 입력:71\n",
            "70점 이상이므로 합격입니다.\n",
            "축하합니다. 합격입니다.\n"
          ]
        }
      ]
    },
    {
      "cell_type": "markdown",
      "source": [
        "3. 근무시간에 따라 초과근무와 정상근무를 판별하는 코드\n",
        " - 변수는 work_hour\n",
        " - 연산코드는 work_hour > 72"
      ],
      "metadata": {
        "id": "Icdg3qgvhwb6"
      }
    },
    {
      "cell_type": "code",
      "source": [
        "print(\"근무시간을 입력하시오.\")\n",
        "work_hour = int(input(\"근무시간 입력: \")) # 사용자로부터 근무시간을 입력받아 work_hour 변수에 저장합니다.\n",
        "if work_hour > 72: # 만약 근무시간이 72시간을 초과하면 아래의 코드 블록을 실행합니다.\n",
        "  print(\"☆\"*9 )\n",
        "  print(f'♠ 초과근무 입니다.♠')\n",
        "  print(\"☆\"*9 )\n",
        "else: # 그렇지 않은 경우(근무시간이 72시간 이하인 경우) 아래의 코드 블록을 실행합니다.\n",
        "  print(\"☆\"*9 )\n",
        "  print(f'♠ 정상근무 입니다.♠')\n",
        "  print(\"☆\"*9 )\n",
        "\n"
      ],
      "metadata": {
        "colab": {
          "base_uri": "https://localhost:8080/"
        },
        "id": "iFnSpRfeiAKR",
        "outputId": "8f84e268-a3a3-41c8-ae7f-1c5f37b7179a"
      },
      "execution_count": null,
      "outputs": [
        {
          "output_type": "stream",
          "name": "stdout",
          "text": [
            "근무시간을 입력하시오.\n",
            "근무시간 입력: 70\n",
            "☆☆☆☆☆☆☆☆☆\n",
            "♠ 정상근무 입니다.♠\n",
            "☆☆☆☆☆☆☆☆☆\n"
          ]
        }
      ]
    },
    {
      "cell_type": "markdown",
      "source": [
        "4. 짝수와 홀수를 판별하는 코드\n",
        " - 사용변수 : _num_\n",
        " - 수식 : (x % 2) != 0:"
      ],
      "metadata": {
        "id": "QCF4OHyhl4cn"
      }
    },
    {
      "cell_type": "code",
      "source": [
        "print(\"정수를 입력하시오.\")\n",
        "_num_ = int(input(\" 정수 입력 : \")) # 사용자로부터 정수를 입력받아 _num_ 변수에 저장합니다.\n",
        "if (_num_ % 2) != 0: # 만약 입력받은 정수를 2로 나눈 나머지가 0이 아니면 아래의 코드 블록을 실행합니다.\n",
        "  print(f'입력하신 {_num_}은 홀수입니다.')\n",
        "else: # 그렇지 않은 경우(입력받은 정수를 2로 나눈 나머지가 0인 경우) 아래의 코드 블록을 실행합니다.\n",
        " print(f'입력하신 {_num_}은 짝수입니다.')\n"
      ],
      "metadata": {
        "colab": {
          "base_uri": "https://localhost:8080/"
        },
        "id": "WGehE28JmBj0",
        "outputId": "ea2f5069-3701-4fb1-f7dd-255b61f1f43b"
      },
      "execution_count": null,
      "outputs": [
        {
          "output_type": "stream",
          "name": "stdout",
          "text": [
            "정수를 입력하시오.\n",
            " 정수 입력 : 7\n",
            "입력하신 7은 홀수입니다.\n"
          ]
        }
      ]
    },
    {
      "cell_type": "markdown",
      "source": [
        "5. 사용자의 이름과 나이를 물어보고, 답변하는 코드\n",
        " - 사용 변수: name, age\n",
        " - 출력할 내용 :\n",
        "  - 성명\n",
        "  - 나이 : 20\n",
        " - (1) 20이하 프로그래밍을 배우는 최적의 나이입니다.\n",
        " - (2) 20이상 아직도 늦지 않았습니다."
      ],
      "metadata": {
        "id": "R0A4OZjQnHFw"
      }
    },
    {
      "cell_type": "code",
      "source": [
        "print(\"이름과 나이를 넣으시오.\")\n",
        "name = input(\"이름 입력: \") # 사용자로부터 이름을 입력받아 name 변수에 저장합니다.\n",
        "age = int(input(\"나이 입력: \")) # 사용자로부터 나이를 입력받아 age 변수에 저장합니다.\n",
        "if age < 20 : # 만약 나이가 20보다 작으면 아래의 코드 블록을 실행합니다.\n",
        "  print(f'프로그래밍을 배우는 최적의 나이입니다.' )\n",
        "else: # 그렇지 않은 경우(나이가 20 이상인 경우) 아래의 코드 블록을 실행합니다.\n",
        "  print(f'아직도 늦지 않았습니다.')"
      ],
      "metadata": {
        "colab": {
          "base_uri": "https://localhost:8080/"
        },
        "id": "k2_b2Pk_n3xU",
        "outputId": "62e37e45-7016-4671-8f97-eadc824610fe"
      },
      "execution_count": null,
      "outputs": [
        {
          "output_type": "stream",
          "name": "stdout",
          "text": [
            "이름과 나이를 넣으시오.\n",
            "이름 입력: 조민진\n",
            "나이 입력: 21\n",
            "아직도 늦지 않았습니다.\n"
          ]
        }
      ]
    }
  ]
}