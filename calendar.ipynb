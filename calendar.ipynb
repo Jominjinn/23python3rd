{
  "nbformat": 4,
  "nbformat_minor": 0,
  "metadata": {
    "colab": {
      "provenance": [],
      "authorship_tag": "ABX9TyNu2ZJzrQ36kahcobMBkZDy",
      "include_colab_link": true
    },
    "kernelspec": {
      "name": "python3",
      "display_name": "Python 3"
    },
    "language_info": {
      "name": "python"
    }
  },
  "cells": [
    {
      "cell_type": "markdown",
      "metadata": {
        "id": "view-in-github",
        "colab_type": "text"
      },
      "source": [
        "<a href=\"https://colab.research.google.com/github/Jominjinn/23python3rd/blob/main/calendar.ipynb\" target=\"_parent\"><img src=\"https://colab.research.google.com/assets/colab-badge.svg\" alt=\"Open In Colab\"/></a>"
      ]
    },
    {
      "cell_type": "code",
      "execution_count": null,
      "metadata": {
        "colab": {
          "base_uri": "https://localhost:8080/"
        },
        "id": "1qoNzJAgZAB3",
        "outputId": "f59dbad4-a0c0-4f5a-9784-12f7f4b618ae"
      },
      "outputs": [
        {
          "output_type": "stream",
          "name": "stdout",
          "text": [
            "    October 2023\n",
            "Mo Tu We Th Fr Sa Su\n",
            "                   1\n",
            " 2  3  4  5  6  7  8\n",
            " 9 10 11 12 13 14 15\n",
            "16 17 18 19 20 21 22\n",
            "23 24 25 26 27 28 29\n",
            "30 31\n",
            "\n"
          ]
        }
      ],
      "source": [
        "import calendar # calendar 모듈을 가져옵니다.\n",
        "yy = 2023       # Year\n",
        "mm = 10         # Month\n",
        "# display the calender\n",
        "print(calendar.month(yy,mm)) # 지정한 연도와 월에 해당하는 달력을 출력합니다."
      ]
    },
    {
      "cell_type": "code",
      "source": [
        "print(\"2023년 10월 19일 To Do List\") #2023년 10월 19일의 일정을 출력합니다.\n",
        "print(\"9:00~11:00 컴퓨팅적 사고와 기초코딩\")\n",
        "print(\"11:00~12:00 아동건강교육\")\n",
        "print(\"12:00~13:00 점심식사\")\n",
        "print(\"13:00~17:40 시험공부\")\n",
        "print(\"17:40~18:30 저녁식사\")\n",
        "print(\"18:30~20:00 샤워 및 휴식\")\n",
        "print(\"21:00 취침\")"
      ],
      "metadata": {
        "colab": {
          "base_uri": "https://localhost:8080/"
        },
        "id": "tmtaPf6UaqzH",
        "outputId": "bad91618-77ef-4160-9994-4dde3565d123"
      },
      "execution_count": null,
      "outputs": [
        {
          "output_type": "stream",
          "name": "stdout",
          "text": [
            "2023년 10월 19일 To Do List\n",
            "9:00~11:00 컴퓨팅적 사고와 기초코딩\n",
            "11:00~12:00 아동건강교육\n",
            "12:00~13:00 점심식사\n",
            "13:00~17:40 시험공부\n",
            "17:40~18:30 저녁식사\n",
            "18:30~20:00 샤워 및 휴식\n",
            "21:00 취침\n"
          ]
        }
      ]
    },
    {
      "cell_type": "markdown",
      "source": [],
      "metadata": {
        "id": "N9eBh1BGcMPF"
      }
    }
  ]
}