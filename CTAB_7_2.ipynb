{
  "nbformat": 4,
  "nbformat_minor": 0,
  "metadata": {
    "colab": {
      "provenance": [],
      "authorship_tag": "ABX9TyMOjvRmelpxkA+0z7DSxDmG",
      "include_colab_link": true
    },
    "kernelspec": {
      "name": "python3",
      "display_name": "Python 3"
    },
    "language_info": {
      "name": "python"
    }
  },
  "cells": [
    {
      "cell_type": "markdown",
      "metadata": {
        "id": "view-in-github",
        "colab_type": "text"
      },
      "source": [
        "<a href=\"https://colab.research.google.com/github/Jominjinn/23python3rd/blob/main/CTAB_7_2.ipynb\" target=\"_parent\"><img src=\"https://colab.research.google.com/assets/colab-badge.svg\" alt=\"Open In Colab\"/></a>"
      ]
    },
    {
      "cell_type": "code",
      "execution_count": null,
      "metadata": {
        "colab": {
          "base_uri": "https://localhost:8080/"
        },
        "id": "PJx7jheJC1-e",
        "outputId": "e7df6686-57f8-49aa-8471-7dc67843254d"
      },
      "outputs": [
        {
          "output_type": "stream",
          "name": "stdout",
          "text": [
            "정수 2개를 입력하시오.\n",
            "x의 값을 입력하시오.: 55\n",
            "y의 값을 입력하시오.: 7\n",
            "x + y의 합계는 62 입니다.\n"
          ]
        }
      ],
      "source": [
        "print(\"정수 2개를 입력하시오.\")\n",
        "x = int (input(\"x의 값을 입력하시오.: \")) # 사용자로부터 x의 값을 입력받아 x 변수에 저장합니다.\n",
        "y = int (input(\"y의 값을 입력하시오.: \")) # 사용자로부터 y의 값을 입력받아 y 변수에 저장합니다.\n",
        "sum = x + y # 입력받은 두 정수 x와 y의 합을 계산하여 sum 변수에 저장합니다.\n",
        "print (\"x + y의 합계는\", sum, \"입니다.\") # x와 y의 합을 출력합니다."
      ]
    },
    {
      "cell_type": "code",
      "source": [
        "print(\"상품의 가격을 입력하시오.\")\n",
        "price = int(input(\"가격을 입력하시오.: \")) # 사용자로부터 가격을 입력받아 price 변수에 저장합니다.\n",
        "vat = price * 0.1  # 가격에 0.1을 곱하여 부가가치세(VAT)를 계산합니다.\n",
        "print(\"해당 상품의 가격은\", vat, \"입니다.\") # 부가가치세를 출력합니다."
      ],
      "metadata": {
        "colab": {
          "base_uri": "https://localhost:8080/"
        },
        "id": "fWD47c3tDkkB",
        "outputId": "da998a4d-7e43-4e0b-9c32-d6994a47dcac"
      },
      "execution_count": null,
      "outputs": [
        {
          "output_type": "stream",
          "name": "stdout",
          "text": [
            "상품의 가격을 입력하시오.\n",
            "가격을 입력하시오.: 100000\n",
            "해당 상품의 가격은 10000.0 입니다.\n"
          ]
        }
      ]
    }
  ]
}